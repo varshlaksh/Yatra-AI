{
 "cells": [
  {
   "cell_type": "code",
   "execution_count": 1,
   "id": "fcddf72f",
   "metadata": {},
   "outputs": [
    {
     "name": "stdout",
     "output_type": "stream",
     "text": [
      "🏨 Filtered Stays:\n",
      "    stay_id              name         type  cost_per_night  distance_km  \\\n",
      "0        1  Baba Dharamshala         Dorm             200          1.0   \n",
      "2        3      Sai Stay Inn  Guest House             500          2.0   \n",
      "3        4       Amrit Niwas         Dorm             150          0.5   \n",
      "4        5  Spiritual Palace        Hotel            1200          1.0   \n",
      "\n",
      "   max_people  \n",
      "0          50  \n",
      "2          30  \n",
      "3          40  \n",
      "4          25  \n",
      "\n",
      "✅ Recommended Stay:\n",
      "🏠 Amrit Niwas (Dorm)\n",
      "💰 Cost for 2 nights: ₹300\n",
      "📍 Distance from site: 0.5 km\n"
     ]
    },
    {
     "name": "stderr",
     "output_type": "stream",
     "text": [
      "C:\\Users\\HP\\AppData\\Local\\Temp\\ipykernel_17912\\2924730751.py:24: SettingWithCopyWarning: \n",
      "A value is trying to be set on a copy of a slice from a DataFrame.\n",
      "Try using .loc[row_indexer,col_indexer] = value instead\n",
      "\n",
      "See the caveats in the documentation: https://pandas.pydata.org/pandas-docs/stable/user_guide/indexing.html#returning-a-view-versus-a-copy\n",
      "  filtered_stays['total_cost'] = filtered_stays['cost_per_night'] * num_nights\n"
     ]
    }
   ],
   "source": [
    "import pandas as pd\n",
    "\n",
    "# Load data\n",
    "df_stay = pd.read_csv(\"../data/accommodation.csv\")\n",
    "\n",
    "# === Input parameters ===\n",
    "group_size = 25\n",
    "budget = 10000\n",
    "max_distance = 2  # in km\n",
    "\n",
    "# === Filter by distance and capacity ===\n",
    "filtered_stays = df_stay[\n",
    "    (df_stay['distance_km'] <= max_distance) &\n",
    "    (df_stay['max_people'] >= group_size)\n",
    "]\n",
    "\n",
    "if filtered_stays.empty:\n",
    "    print(\"❌ No stay options found within given criteria.\")\n",
    "else:\n",
    "    print(\"🏨 Filtered Stays:\\n\", filtered_stays)\n",
    "\n",
    "    # === Estimate cost ===\n",
    "    num_nights = 2  # fixed for now, can be user input\n",
    "    filtered_stays['total_cost'] = filtered_stays['cost_per_night'] * num_nights\n",
    "\n",
    "    # === Sort by total cost ===\n",
    "    sorted_stays = filtered_stays.sort_values(by='total_cost')\n",
    "    best_stay = sorted_stays.iloc[0]\n",
    "\n",
    "    print(\"\\n✅ Recommended Stay:\")\n",
    "    print(f\"🏠 {best_stay['name']} ({best_stay['type']})\")\n",
    "    print(f\"💰 Cost for {num_nights} nights: ₹{best_stay['total_cost']}\")\n",
    "    print(f\"📍 Distance from site: {best_stay['distance_km']} km\")\n"
   ]
  }
 ],
 "metadata": {
  "kernelspec": {
   "display_name": "env",
   "language": "python",
   "name": "python3"
  },
  "language_info": {
   "codemirror_mode": {
    "name": "ipython",
    "version": 3
   },
   "file_extension": ".py",
   "mimetype": "text/x-python",
   "name": "python",
   "nbconvert_exporter": "python",
   "pygments_lexer": "ipython3",
   "version": "3.12.2"
  }
 },
 "nbformat": 4,
 "nbformat_minor": 5
}
