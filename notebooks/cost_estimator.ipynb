{
 "cells": [
  {
   "cell_type": "code",
   "execution_count": 1,
   "id": "0a295896",
   "metadata": {},
   "outputs": [
    {
     "name": "stdout",
     "output_type": "stream",
     "text": [
      "💸 Cost Breakdown:\n",
      "🚌 Travel: ₹5062.50\n",
      "🏨 Stay: ₹300.00\n",
      "🍛 Food: ₹2000.00\n",
      "\n",
      "🔢 Total Estimated Cost: ₹7362.50\n",
      "✅ Within Budget!\n"
     ]
    }
   ],
   "source": [
    "import pandas as pd\n",
    "\n",
    "# === Load all needed data ===\n",
    "df_travel = pd.read_csv(\"../data/travel_options.csv\")\n",
    "df_sites = pd.read_csv(\"../data/pilgrimage_sites.csv\")\n",
    "df_stay = pd.read_csv(\"../data/accommodation.csv\")\n",
    "df_food = pd.read_csv(\"../data/food_vendors.csv\")\n",
    "\n",
    "# === Simulated input (same as before) ===\n",
    "source = \"Delhi\"\n",
    "destination = \"Kedarnath\"\n",
    "group_size = 25\n",
    "budget = 25000\n",
    "stay_nights = 2\n",
    "days = 2\n",
    "\n",
    "# === Get distance ===\n",
    "distance = df_sites[df_sites['name'] == destination].iloc[0]['distance_km']\n",
    "\n",
    "# === Get best travel option ===\n",
    "travel_option = df_travel[(df_travel['source'] == source) & \n",
    "                          (df_travel['destination'] == destination)].iloc[0]\n",
    "travel_cost = travel_option['rate_per_km'] * distance * (group_size / travel_option['capacity'])\n",
    "\n",
    "# === Get best stay option ===\n",
    "stay_option = df_stay[(df_stay['max_people'] >= group_size) & \n",
    "                      (df_stay['distance_km'] <= 2)].sort_values('cost_per_night').iloc[0]\n",
    "stay_cost = stay_option['cost_per_night'] * stay_nights\n",
    "\n",
    "# === Get best food option ===\n",
    "food_option = df_food.sort_values('cost_per_meal').iloc[0]\n",
    "food_cost = food_option['cost_per_meal'] * group_size * days\n",
    "\n",
    "# === Calculate total cost ===\n",
    "total_cost = travel_cost + stay_cost + food_cost\n",
    "\n",
    "# === Print cost breakdown ===\n",
    "print(\"💸 Cost Breakdown:\")\n",
    "print(f\"🚌 Travel: ₹{travel_cost:.2f}\")\n",
    "print(f\"🏨 Stay: ₹{stay_cost:.2f}\")\n",
    "print(f\"🍛 Food: ₹{food_cost:.2f}\")\n",
    "print(f\"\\n🔢 Total Estimated Cost: ₹{total_cost:.2f}\")\n",
    "\n",
    "if total_cost <= budget:\n",
    "    print(\"✅ Within Budget!\")\n",
    "else:\n",
    "    print(\"❌ Over Budget! Adjust your plan.\")\n"
   ]
  }
 ],
 "metadata": {
  "kernelspec": {
   "display_name": "env",
   "language": "python",
   "name": "python3"
  },
  "language_info": {
   "codemirror_mode": {
    "name": "ipython",
    "version": 3
   },
   "file_extension": ".py",
   "mimetype": "text/x-python",
   "name": "python",
   "nbconvert_exporter": "python",
   "pygments_lexer": "ipython3",
   "version": "3.12.2"
  }
 },
 "nbformat": 4,
 "nbformat_minor": 5
}
