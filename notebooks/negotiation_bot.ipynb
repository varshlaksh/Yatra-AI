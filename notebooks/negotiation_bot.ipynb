{
 "cells": [
  {
   "cell_type": "code",
   "execution_count": 1,
   "id": "256652c5",
   "metadata": {},
   "outputs": [
    {
     "name": "stdout",
     "output_type": "stream",
     "text": [
      "🤝 Negotiation with Govindam Bhojanalay\n",
      "💬 Vendor asks for ₹80 per meal\n",
      "🎯 You expect ₹60\n"
     ]
    }
   ],
   "source": [
    "import random\n",
    "\n",
    "# === Define a vendor ===\n",
    "vendor_name = \"Govindam Bhojanalay\"\n",
    "expected_price = 60  # What you want to pay per meal\n",
    "vendor_price = 80    # Initial price asked by vendor\n",
    "\n",
    "max_rounds = 3\n",
    "round_number = 1\n",
    "accepted = False\n",
    "\n",
    "print(f\"🤝 Negotiation with {vendor_name}\")\n",
    "print(f\"💬 Vendor asks for ₹{vendor_price} per meal\")\n",
    "print(f\"🎯 You expect ₹{expected_price}\")\n",
    "\n",
    "# === Negotiation Loop ===\n"
   ]
  }
 ],
 "metadata": {
  "kernelspec": {
   "display_name": "env",
   "language": "python",
   "name": "python3"
  },
  "language_info": {
   "codemirror_mode": {
    "name": "ipython",
    "version": 3
   },
   "file_extension": ".py",
   "mimetype": "text/x-python",
   "name": "python",
   "nbconvert_exporter": "python",
   "pygments_lexer": "ipython3",
   "version": "3.12.2"
  }
 },
 "nbformat": 4,
 "nbformat_minor": 5
}
