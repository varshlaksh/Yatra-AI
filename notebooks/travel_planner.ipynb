{
 "cells": [
  {
   "cell_type": "code",
   "execution_count": 1,
   "id": "c3a8ff98",
   "metadata": {},
   "outputs": [
    {
     "name": "stdout",
     "output_type": "stream",
     "text": [
      "✅ Travel Options:\n",
      "    travel_id mode source destination  rate_per_km  capacity\n",
      "0          1  Bus  Delhi   Kedarnath         18.0        40\n",
      "\n",
      "🚍 Sorted Travel Options (Lowest Cost First):\n",
      "   mode  estimated_cost\n",
      "0  Bus          5062.5\n",
      "\n",
      "✅ Recommended Mode: Bus\n",
      "💰 Estimated Cost: ₹5062.50\n",
      "🎯 This is within your budget!\n"
     ]
    },
    {
     "name": "stderr",
     "output_type": "stream",
     "text": [
      "C:\\Users\\HP\\AppData\\Local\\Temp\\ipykernel_12712\\930999052.py:30: SettingWithCopyWarning: \n",
      "A value is trying to be set on a copy of a slice from a DataFrame.\n",
      "Try using .loc[row_indexer,col_indexer] = value instead\n",
      "\n",
      "See the caveats in the documentation: https://pandas.pydata.org/pandas-docs/stable/user_guide/indexing.html#returning-a-view-versus-a-copy\n",
      "  options['estimated_cost'] = options['rate_per_km'] * distance * (group_size / options['capacity'])\n"
     ]
    }
   ],
   "source": [
    "import pandas as pd\n",
    "\n",
    "# Load travel data\n",
    "df_travel = pd.read_csv(\"../data/travel_options.csv\")\n",
    "df_sites = pd.read_csv(\"../data/pilgrimage_sites.csv\")\n",
    "\n",
    "# === User Input (you can later replace with real input method) ===\n",
    "source = \"Delhi\"\n",
    "destination = \"Kedarnath\"\n",
    "group_size = 25\n",
    "budget = 25000\n",
    "\n",
    "# === Get distance from pilgrimage site data ===\n",
    "site_row = df_sites[df_sites['name'] == destination]\n",
    "if site_row.empty:\n",
    "    print(\"❌ Destination not found.\")\n",
    "else:\n",
    "    distance = site_row.iloc[0]['distance_km']\n",
    "\n",
    "    # === Filter travel options ===\n",
    "    options = df_travel[(df_travel['source'] == source) & \n",
    "                        (df_travel['destination'] == destination)]\n",
    "\n",
    "    if options.empty:\n",
    "        print(\"❌ No travel options found for this route.\")\n",
    "    else:\n",
    "        print(\"✅ Travel Options:\\n\", options)\n",
    "\n",
    "        # === Estimate cost for each option ===\n",
    "        options['estimated_cost'] = options['rate_per_km'] * distance * (group_size / options['capacity'])\n",
    "\n",
    "        # === Show options sorted by cost ===\n",
    "        sorted_options = options.sort_values(by='estimated_cost')\n",
    "        print(\"\\n🚍 Sorted Travel Options (Lowest Cost First):\\n\", sorted_options[['mode', 'estimated_cost']])\n",
    "\n",
    "        # === Recommend Best Option ===\n",
    "        best_option = sorted_options.iloc[0]\n",
    "        print(f\"\\n✅ Recommended Mode: {best_option['mode']}\")\n",
    "        print(f\"💰 Estimated Cost: ₹{best_option['estimated_cost']:.2f}\")\n",
    "\n",
    "        if best_option['estimated_cost'] <= budget:\n",
    "            print(\"🎯 This is within your budget!\")\n",
    "        else:\n",
    "            print(\"⚠️ This exceeds your budget!\")\n"
   ]
  }
 ],
 "metadata": {
  "kernelspec": {
   "display_name": "env",
   "language": "python",
   "name": "python3"
  },
  "language_info": {
   "codemirror_mode": {
    "name": "ipython",
    "version": 3
   },
   "file_extension": ".py",
   "mimetype": "text/x-python",
   "name": "python",
   "nbconvert_exporter": "python",
   "pygments_lexer": "ipython3",
   "version": "3.12.2"
  }
 },
 "nbformat": 4,
 "nbformat_minor": 5
}
