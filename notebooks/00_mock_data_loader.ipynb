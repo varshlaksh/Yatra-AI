{
 "cells": [
  {
   "cell_type": "code",
   "execution_count": 3,
   "id": "8e2e95f7",
   "metadata": {},
   "outputs": [
    {
     "name": "stdout",
     "output_type": "stream",
     "text": [
      "   site_id           name            state  entry_fee  max_visitors  \\\n",
      "0        1      Kedarnath      Uttarakhand          0         10000   \n",
      "1        2       Tirupati   Andhra Pradesh         30         50000   \n",
      "2        3   Vaishno Devi  Jammu & Kashmir         10         20000   \n",
      "3        4         Shirdi      Maharashtra          0         30000   \n",
      "4        5  Golden Temple           Punjab          0         70000   \n",
      "\n",
      "   distance_km  \n",
      "0          450  \n",
      "1          750  \n",
      "2          650  \n",
      "3          300  \n",
      "4          500  \n"
     ]
    }
   ],
   "source": [
    "import pandas as pd\n",
    "\n",
    "df_sites = pd.read_csv(\"../data/pilgrimage_sites.csv\")\n",
    "df_travel = pd.read_csv(\"../data/travel_options.csv\")\n",
    "df_stay = pd.read_csv(\"../data/accommodation.csv\")\n",
    "df_food = pd.read_csv(\"../data/food_vendors.csv\")\n",
    "df_devotees = pd.read_csv(\"../data/devotees.csv\")\n",
    "\n",
    "print(df_sites.head())\n"
   ]
  }
 ],
 "metadata": {
  "kernelspec": {
   "display_name": "env",
   "language": "python",
   "name": "python3"
  },
  "language_info": {
   "codemirror_mode": {
    "name": "ipython",
    "version": 3
   },
   "file_extension": ".py",
   "mimetype": "text/x-python",
   "name": "python",
   "nbconvert_exporter": "python",
   "pygments_lexer": "ipython3",
   "version": "3.12.2"
  }
 },
 "nbformat": 4,
 "nbformat_minor": 5
}
